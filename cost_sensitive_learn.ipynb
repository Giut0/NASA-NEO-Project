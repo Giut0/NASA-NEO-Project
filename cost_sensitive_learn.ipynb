{
 "cells": [
  {
   "cell_type": "code",
   "execution_count": 327,
   "metadata": {},
   "outputs": [],
   "source": [
    "import pandas as pd\n",
    "import seaborn as sns\n",
    "from sklearn.model_selection import train_test_split\n",
    "from sklearn.tree import DecisionTreeClassifier\n",
    "from sklearn.naive_bayes import GaussianNB, ComplementNB\n",
    "from sklearn.metrics import confusion_matrix, accuracy_score, roc_auc_score, fbeta_score, classification_report"
   ]
  },
  {
   "cell_type": "code",
   "execution_count": 328,
   "metadata": {},
   "outputs": [],
   "source": [
    "data = pd.read_csv(\"data/NEO_v2_refined.csv\")\n",
    "data_res_adasyn = pd.read_csv(\"data/NEO_v2_refined_res_adasyn.csv\")\n",
    "data_res_smoteenn = pd.read_csv(\"data/NEO_v2_refined_res_smoteenn.csv\")"
   ]
  },
  {
   "cell_type": "code",
   "execution_count": 329,
   "metadata": {},
   "outputs": [],
   "source": [
    "X = data.drop(columns=[\"hazardous\", \"id\"])\n",
    "y = data[\"hazardous\"]\n",
    "\n",
    "X_res_smoteenn = data_res_smoteenn.drop(columns=[\"hazardous\"])\n",
    "y_res_smoteenn = data_res_smoteenn[\"hazardous\"]\n",
    "\n",
    "X_res_adasyn = data_res_adasyn.drop(columns=[\"hazardous\"])\n",
    "y_res_adasyn = data_res_adasyn[\"hazardous\"]\n"
   ]
  },
  {
   "cell_type": "code",
   "execution_count": 330,
   "metadata": {},
   "outputs": [],
   "source": [
    "X_train, X_test, y_train, y_test = train_test_split (X, y, test_size=0.33, random_state=42)\n",
    "X_train_res_smoteenn, X_test_res_smoteenn, y_train_res_smoteenn, y_test_res_smoteenn  = train_test_split (X_res_smoteenn , y_res_smoteenn , test_size=0.33, random_state=42)\n",
    "X_train_res_adasyn, X_test_res_adasyn, y_train_res_adasyn, y_test_res_adasyn = train_test_split (X_res_adasyn, y_res_adasyn, test_size=0.33, random_state=42)"
   ]
  },
  {
   "attachments": {},
   "cell_type": "markdown",
   "metadata": {},
   "source": [
    "No cost-sensitive leraning No resampling"
   ]
  },
  {
   "cell_type": "code",
   "execution_count": 331,
   "metadata": {},
   "outputs": [],
   "source": [
    "decision_tree = DecisionTreeClassifier(random_state=0).fit(X_train, y_train)\n",
    "\n",
    "y_pred = decision_tree.predict(X_test)\n",
    "f2score = fbeta_score(y_test, y_pred, beta=2)"
   ]
  },
  {
   "cell_type": "code",
   "execution_count": 332,
   "metadata": {},
   "outputs": [],
   "source": [
    "bayes = ComplementNB().fit(X_train, y_train)\n",
    "\n",
    "y_pred = bayes.predict(X_test)"
   ]
  },
  {
   "cell_type": "code",
   "execution_count": 333,
   "metadata": {},
   "outputs": [
    {
     "name": "stdout",
     "output_type": "stream",
     "text": [
      "------ Cost-Sens learning with resampling SMOTEENN ------\n",
      "Accuracy: 0.5587136375767281\n",
      "F2 score: 0.3263224230966166\n",
      "ROC AUC score: 0.5601264716218938\n",
      "---------------------------------------------------------\n"
     ]
    }
   ],
   "source": [
    "print(\"------ Cost-Sens learning with resampling SMOTEENN ------\")\n",
    "print(\"Accuracy:\", accuracy_score(y_test, y_pred))\n",
    "print(\"F2 score:\", fbeta_score(y_test, y_pred, beta=2))\n",
    "print(\"ROC AUC score:\", roc_auc_score(y_test, y_pred))\n",
    "print(\"---------------------------------------------------------\")"
   ]
  },
  {
   "attachments": {},
   "cell_type": "markdown",
   "metadata": {},
   "source": [
    "Si cost-sensitive leraning No resampling"
   ]
  },
  {
   "cell_type": "code",
   "execution_count": 334,
   "metadata": {},
   "outputs": [],
   "source": [
    "decision_tree = DecisionTreeClassifier(random_state=0, class_weight=\"balanced\").fit(X_train, y_train) # Cost sensitive learning con \"balanced\"\n",
    "\n",
    "y_pred = decision_tree.predict(X_test)\n",
    "f2score_cost_learning = fbeta_score(y_test, y_pred, beta=2)"
   ]
  },
  {
   "cell_type": "code",
   "execution_count": 335,
   "metadata": {},
   "outputs": [
    {
     "name": "stdout",
     "output_type": "stream",
     "text": [
      "------ Cost-Sens learning with resampling SMOTEENN ------\n",
      "Accuracy: 0.8914798505471043\n",
      "F2 score: 0.4323308270676691\n",
      "ROC AUC score: 0.685452955544512\n",
      "---------------------------------------------------------\n"
     ]
    }
   ],
   "source": [
    "print(\"------ Cost-Sens learning with resampling SMOTEENN ------\")\n",
    "print(\"Accuracy:\", accuracy_score(y_test, y_pred))\n",
    "print(\"F2 score:\", fbeta_score(y_test, y_pred, beta=2))\n",
    "print(\"ROC AUC score:\", roc_auc_score(y_test, y_pred))\n",
    "print(\"---------------------------------------------------------\")"
   ]
  },
  {
   "cell_type": "code",
   "execution_count": 336,
   "metadata": {},
   "outputs": [],
   "source": [
    "bayes = ComplementNB().fit(X_train, y_train)\n",
    "\n",
    "y_pred = bayes.predict(X_test)"
   ]
  },
  {
   "cell_type": "code",
   "execution_count": 337,
   "metadata": {},
   "outputs": [
    {
     "name": "stdout",
     "output_type": "stream",
     "text": [
      "------ Cost-Sens learning with resampling SMOTEENN ------\n",
      "Accuracy: 0.5587136375767281\n",
      "F2 score: 0.3263224230966166\n",
      "ROC AUC score: 0.5601264716218938\n",
      "---------------------------------------------------------\n"
     ]
    }
   ],
   "source": [
    "print(\"------ Cost-Sens learning with resampling SMOTEENN ------\")\n",
    "print(\"Accuracy:\", accuracy_score(y_test, y_pred))\n",
    "print(\"F2 score:\", fbeta_score(y_test, y_pred, beta=2))\n",
    "print(\"ROC AUC score:\", roc_auc_score(y_test, y_pred))\n",
    "print(\"---------------------------------------------------------\")"
   ]
  },
  {
   "attachments": {},
   "cell_type": "markdown",
   "metadata": {},
   "source": [
    "No cost-sensitive leraning Si resampling"
   ]
  },
  {
   "cell_type": "code",
   "execution_count": 338,
   "metadata": {},
   "outputs": [],
   "source": [
    "decision_tree_res_smoteenn = DecisionTreeClassifier(random_state=0).fit(X_train_res_smoteenn, y_train_res_smoteenn)\n",
    "\n",
    "y_pred_res_smoteenn = decision_tree_res_smoteenn.predict(X_test_res_smoteenn)\n",
    "f2score_res_smoteenn = fbeta_score(y_test_res_smoteenn, y_pred_res_smoteenn, beta=2)"
   ]
  },
  {
   "cell_type": "code",
   "execution_count": 339,
   "metadata": {},
   "outputs": [
    {
     "name": "stdout",
     "output_type": "stream",
     "text": [
      "------ Cost-Sens learning with resampling SMOTEENN ------\n",
      "Accuracy: 0.9276103521658543\n",
      "F2 score: 0.9251725129384702\n",
      "ROC AUC score: 0.9275301832042604\n",
      "---------------------------------------------------------\n"
     ]
    }
   ],
   "source": [
    "print(\"------ Cost-Sens learning with resampling SMOTEENN ------\")\n",
    "print(\"Accuracy:\", accuracy_score(y_test_res_smoteenn, y_pred_res_smoteenn))\n",
    "print(\"F2 score:\", fbeta_score(y_test_res_smoteenn, y_pred_res_smoteenn, beta=2))\n",
    "print(\"ROC AUC score:\", roc_auc_score(y_test_res_smoteenn, y_pred_res_smoteenn))\n",
    "print(\"---------------------------------------------------------\")"
   ]
  },
  {
   "cell_type": "code",
   "execution_count": 340,
   "metadata": {},
   "outputs": [],
   "source": [
    "decision_tree_res_adasyn = DecisionTreeClassifier(random_state=0).fit(X_train_res_adasyn, y_train_res_adasyn)\n",
    "\n",
    "y_pred_res_adasyn = decision_tree_res_adasyn.predict(X_test_res_adasyn)\n",
    "f2score_res_adasyn = fbeta_score(y_test_res_adasyn, y_pred_res_adasyn, beta=2)"
   ]
  },
  {
   "cell_type": "code",
   "execution_count": 341,
   "metadata": {},
   "outputs": [
    {
     "name": "stdout",
     "output_type": "stream",
     "text": [
      "------ Cost-Sens learning with resampling SMOTEENN ------\n",
      "Accuracy: 0.9381538796861377\n",
      "F2 score: 0.9407503252546939\n",
      "ROC AUC score: 0.9380808521401336\n",
      "---------------------------------------------------------\n"
     ]
    }
   ],
   "source": [
    "print(\"------ Cost-Sens learning with resampling SMOTEENN ------\")\n",
    "print(\"Accuracy:\", accuracy_score(y_test_res_adasyn, y_pred_res_adasyn))\n",
    "print(\"F2 score:\", fbeta_score(y_test_res_adasyn, y_pred_res_adasyn, beta=2))\n",
    "print(\"ROC AUC score:\", roc_auc_score(y_test_res_adasyn, y_pred_res_adasyn))\n",
    "print(\"---------------------------------------------------------\")"
   ]
  },
  {
   "cell_type": "code",
   "execution_count": 342,
   "metadata": {},
   "outputs": [],
   "source": [
    "bayes = ComplementNB().fit(X_train_res_smoteenn, y_train_res_smoteenn)\n",
    "\n",
    "y_pred_res_smoteenn = bayes.predict(X_test_res_smoteenn)"
   ]
  },
  {
   "cell_type": "code",
   "execution_count": 343,
   "metadata": {},
   "outputs": [
    {
     "name": "stdout",
     "output_type": "stream",
     "text": [
      "------ Cost-Sens learning with resampling SMOTEENN ------\n",
      "Accuracy: 0.599540056291618\n",
      "F2 score: 0.6077171785926997\n",
      "ROC AUC score: 0.6002788045423455\n",
      "---------------------------------------------------------\n"
     ]
    }
   ],
   "source": [
    "print(\"------ Cost-Sens learning with resampling SMOTEENN ------\")\n",
    "print(\"Accuracy:\", accuracy_score(y_test_res_smoteenn, y_pred_res_smoteenn))\n",
    "print(\"F2 score:\", fbeta_score(y_test_res_smoteenn, y_pred_res_smoteenn, beta=2))\n",
    "print(\"ROC AUC score:\", roc_auc_score(y_test_res_smoteenn, y_pred_res_smoteenn))\n",
    "print(\"---------------------------------------------------------\")"
   ]
  },
  {
   "attachments": {},
   "cell_type": "markdown",
   "metadata": {},
   "source": [
    "Si cost-sensitive leraning Si resampling"
   ]
  },
  {
   "cell_type": "code",
   "execution_count": 344,
   "metadata": {},
   "outputs": [],
   "source": [
    "decision_tree_res_smoteenn = DecisionTreeClassifier(random_state=0, class_weight=\"balanced\").fit(X_train_res_smoteenn, y_train_res_smoteenn)\n",
    "\n",
    "y_pred_res_smoteenn = decision_tree_res_smoteenn.predict(X_test_res_smoteenn)\n",
    "f2score_res_smoteenn_cost_learning = fbeta_score(y_test_res_smoteenn, y_pred_res_smoteenn, beta=2)"
   ]
  },
  {
   "cell_type": "code",
   "execution_count": 345,
   "metadata": {},
   "outputs": [
    {
     "name": "stdout",
     "output_type": "stream",
     "text": [
      "------ Cost-Sens learning with resampling SMOTEENN ------\n",
      "Accuracy: 0.9287773735154802\n",
      "F2 score: 0.9270276484451341\n",
      "ROC AUC score: 0.9287435338554015\n",
      "---------------------------------------------------------\n"
     ]
    }
   ],
   "source": [
    "print(\"------ Cost-Sens learning with resampling SMOTEENN ------\")\n",
    "print(\"Accuracy:\", accuracy_score(y_test_res_smoteenn, y_pred_res_smoteenn))\n",
    "print(\"F2 score:\", fbeta_score(y_test_res_smoteenn, y_pred_res_smoteenn, beta=2))\n",
    "print(\"ROC AUC score:\", roc_auc_score(y_test_res_smoteenn, y_pred_res_smoteenn))\n",
    "print(\"---------------------------------------------------------\")"
   ]
  },
  {
   "cell_type": "code",
   "execution_count": 346,
   "metadata": {},
   "outputs": [],
   "source": [
    "decision_tree_res_adasyn = DecisionTreeClassifier(random_state=0, class_weight=\"balanced\").fit(X_train_res_adasyn, y_train_res_adasyn)\n",
    "\n",
    "y_pred_res_adasyn = decision_tree_res_adasyn.predict(X_test_res_adasyn)\n",
    "f2score_res_adasyn_cost_learning = fbeta_score(y_test_res_adasyn, y_pred_res_adasyn, beta=2)"
   ]
  },
  {
   "cell_type": "code",
   "execution_count": 347,
   "metadata": {},
   "outputs": [
    {
     "name": "stdout",
     "output_type": "stream",
     "text": [
      "------ Cost-Sens learning with resampling SMOTEENN ------\n",
      "Accuracy: 0.9376271432723046\n",
      "F2 score: 0.940157267582402\n",
      "ROC AUC score: 0.9375565618219459\n",
      "---------------------------------------------------------\n"
     ]
    }
   ],
   "source": [
    "print(\"------ Cost-Sens learning with resampling SMOTEENN ------\")\n",
    "print(\"Accuracy:\", accuracy_score(y_test_res_adasyn, y_pred_res_adasyn))\n",
    "print(\"F2 score:\", fbeta_score(y_test_res_adasyn, y_pred_res_adasyn, beta=2))\n",
    "print(\"ROC AUC score:\", roc_auc_score(y_test_res_adasyn, y_pred_res_adasyn))\n",
    "print(\"---------------------------------------------------------\")"
   ]
  },
  {
   "cell_type": "code",
   "execution_count": 348,
   "metadata": {},
   "outputs": [],
   "source": [
    "bayes = ComplementNB(force_alpha=True).fit(X_train_res_smoteenn, y_train_res_smoteenn)\n",
    "\n",
    "y_pred_res_smoteenn = bayes.predict(X_test_res_smoteenn)"
   ]
  },
  {
   "cell_type": "code",
   "execution_count": 349,
   "metadata": {},
   "outputs": [
    {
     "name": "stdout",
     "output_type": "stream",
     "text": [
      "------ Cost-Sens learning with resampling SMOTEENN ------\n",
      "Accuracy: 0.599540056291618\n",
      "F2 score: 0.6077171785926997\n",
      "ROC AUC score: 0.6002788045423455\n",
      "---------------------------------------------------------\n"
     ]
    }
   ],
   "source": [
    "print(\"------ Cost-Sens learning with resampling SMOTEENN ------\")\n",
    "print(\"Accuracy:\", accuracy_score(y_test_res_smoteenn, y_pred_res_smoteenn))\n",
    "print(\"F2 score:\", fbeta_score(y_test_res_smoteenn, y_pred_res_smoteenn, beta=2))\n",
    "print(\"ROC AUC score:\", roc_auc_score(y_test_res_smoteenn, y_pred_res_smoteenn))\n",
    "print(\"---------------------------------------------------------\")"
   ]
  },
  {
   "cell_type": "code",
   "execution_count": 350,
   "metadata": {},
   "outputs": [
    {
     "data": {
      "text/plain": [
       "<Axes: >"
      ]
     },
     "execution_count": 350,
     "metadata": {},
     "output_type": "execute_result"
    },
    {
     "data": {
      "image/png": "[encoded data removed]",
      "text/plain": [
       "<Figure size 640x480 with 1 Axes>"
      ]
     },
     "metadata": {},
     "output_type": "display_data"
    }
   ],
   "source": [
    "sns.barplot(x=[\"a\", \"b\", \"c\", \"d\", \"e\", \"f\"], y=[f2score, f2score_cost_learning, f2score_res_smoteenn, f2score_res_smoteenn_cost_learning, f2score_res_adasyn,f2score_res_adasyn_cost_learning])"
   ]
  }
 ],
 "metadata": {
  "kernelspec": {
   "display_name": "Python 3",
   "language": "python",
   "name": "python3"
  },
  "language_info": {
   "codemirror_mode": {
    "name": "ipython",
    "version": 3
   },
   "file_extension": ".py",
   "mimetype": "text/x-python",
   "name": "python",
   "nbconvert_exporter": "python",
   "pygments_lexer": "ipython3",
   "version": "3.10.6"
  },
  "orig_nbformat": 4
 },
 "nbformat": 4,
 "nbformat_minor": 2
}
