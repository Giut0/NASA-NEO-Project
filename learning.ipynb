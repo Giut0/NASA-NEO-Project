{
 "cells": [
  {
   "cell_type": "code",
   "execution_count": 89,
   "metadata": {},
   "outputs": [],
   "source": [
    "import pandas as pd\n",
    "import seaborn as sns\n",
    "from sklearn.model_selection import train_test_split\n",
    "from sklearn.tree import DecisionTreeClassifier\n",
    "from sklearn.naive_bayes import GaussianNB, ComplementNB\n",
    "from sklearn.metrics import confusion_matrix, accuracy_score, roc_auc_score, fbeta_score, classification_report\n",
    "import matplotlib.pyplot as plt"
   ]
  },
  {
   "cell_type": "code",
   "execution_count": 62,
   "metadata": {},
   "outputs": [],
   "source": [
    "data = pd.read_csv(\"data/NEO_v2_refined.csv\")\n",
    "data_res_adasyn = pd.read_csv(\"data/NEO_v2_refined_res_adasyn.csv\")\n",
    "data_res_smoteenn = pd.read_csv(\"data/NEO_v2_refined_res_smoteenn.csv\")"
   ]
  },
  {
   "cell_type": "code",
   "execution_count": 63,
   "metadata": {},
   "outputs": [],
   "source": [
    "X = data.drop(columns=[\"hazardous\", \"id\"])\n",
    "y = data[\"hazardous\"]\n",
    "\n",
    "X_res_smoteenn = data_res_smoteenn.drop(columns=[\"hazardous\"])\n",
    "y_res_smoteenn = data_res_smoteenn[\"hazardous\"]\n",
    "\n",
    "X_res_adasyn = data_res_adasyn.drop(columns=[\"hazardous\"])\n",
    "y_res_adasyn = data_res_adasyn[\"hazardous\"]\n"
   ]
  },
  {
   "cell_type": "code",
   "execution_count": 64,
   "metadata": {},
   "outputs": [],
   "source": [
    "X_train, X_test, y_train, y_test = train_test_split (X, y, test_size=0.33, random_state=42)\n",
    "X_train_res_smoteenn, X_test_res_smoteenn, y_train_res_smoteenn, y_test_res_smoteenn  = train_test_split (X_res_smoteenn , y_res_smoteenn , test_size=0.33, random_state=42)\n",
    "X_train_res_adasyn, X_test_res_adasyn, y_train_res_adasyn, y_test_res_adasyn = train_test_split (X_res_adasyn, y_res_adasyn, test_size=0.33, random_state=42)"
   ]
  },
  {
   "attachments": {},
   "cell_type": "markdown",
   "metadata": {},
   "source": [
    "## Decision tree C4.5"
   ]
  },
  {
   "attachments": {},
   "cell_type": "markdown",
   "metadata": {},
   "source": [
    "### Original dataset"
   ]
  },
  {
   "attachments": {},
   "cell_type": "markdown",
   "metadata": {},
   "source": [
    "NO Cost-sensitive "
   ]
  },
  {
   "cell_type": "code",
   "execution_count": 65,
   "metadata": {},
   "outputs": [],
   "source": [
    "decision_tree = DecisionTreeClassifier(random_state=0).fit(X_train, y_train)\n",
    "\n",
    "y_pred = decision_tree.predict(X_test)\n",
    "f2score_tree = fbeta_score(y_test, y_pred, beta=2)"
   ]
  },
  {
   "cell_type": "code",
   "execution_count": 66,
   "metadata": {},
   "outputs": [
    {
     "name": "stdout",
     "output_type": "stream",
     "text": [
      "------ Cost-Sens learning with resampling SMOTEENN ------\n",
      "Accuracy: 0.8899786495863358\n",
      "F2 score: 0.4469538170261681\n",
      "ROC AUC score: 0.6932302466381816\n",
      "---------------------------------------------------------\n"
     ]
    }
   ],
   "source": [
    "print(\"------ Cost-Sens learning with resampling SMOTEENN ------\")\n",
    "print(\"Accuracy:\", accuracy_score(y_test, y_pred))\n",
    "print(\"F2 score:\", fbeta_score(y_test, y_pred, beta=2))\n",
    "print(\"ROC AUC score:\", roc_auc_score(y_test, y_pred))\n",
    "print(\"---------------------------------------------------------\")"
   ]
  },
  {
   "attachments": {},
   "cell_type": "markdown",
   "metadata": {},
   "source": [
    "YES Cost-sensitive"
   ]
  },
  {
   "cell_type": "code",
   "execution_count": 67,
   "metadata": {},
   "outputs": [],
   "source": [
    "decision_tree = DecisionTreeClassifier(random_state=0, class_weight=\"balanced\").fit(X_train, y_train) # Cost sensitive learning con \"balanced\"\n",
    "\n",
    "y_pred = decision_tree.predict(X_test)\n",
    "f2score_tree_cost_learning = fbeta_score(y_test, y_pred, beta=2)"
   ]
  },
  {
   "cell_type": "code",
   "execution_count": 68,
   "metadata": {},
   "outputs": [
    {
     "name": "stdout",
     "output_type": "stream",
     "text": [
      "------ Cost-Sens learning with resampling SMOTEENN ------\n",
      "Accuracy: 0.8914798505471043\n",
      "F2 score: 0.8914798505471043 micro 0.6867384264728364 macro 0.8910894465715027 weighted\n",
      "ROC AUC score: 0.685452955544512\n",
      "---------------------------------------------------------\n"
     ]
    }
   ],
   "source": [
    "print(\"------ Cost-Sens learning with resampling SMOTEENN ------\")\n",
    "print(\"Accuracy:\", accuracy_score(y_test, y_pred))\n",
    "print(\"F2 score:\", fbeta_score(y_test, y_pred, beta=2, average=\"micro\"), \"micro\", fbeta_score(y_test, y_pred, beta=2, average=\"macro\"), \"macro\", fbeta_score(y_test, y_pred, beta=2, average=\"weighted\"), \"weighted\")\n",
    "print(\"ROC AUC score:\", roc_auc_score(y_test, y_pred))\n",
    "print(\"---------------------------------------------------------\")"
   ]
  },
  {
   "attachments": {},
   "cell_type": "markdown",
   "metadata": {},
   "source": [
    "### SMOTEENN resampling"
   ]
  },
  {
   "attachments": {},
   "cell_type": "markdown",
   "metadata": {},
   "source": [
    "NO Cost-sensitive "
   ]
  },
  {
   "cell_type": "code",
   "execution_count": 69,
   "metadata": {},
   "outputs": [],
   "source": [
    "decision_tree_res_smoteenn = DecisionTreeClassifier(random_state=0).fit(X_train_res_smoteenn, y_train_res_smoteenn)\n",
    "\n",
    "y_pred_res_smoteenn = decision_tree_res_smoteenn.predict(X_test_res_smoteenn)\n",
    "f2score_tree_res_smoteenn = fbeta_score(y_test_res_smoteenn, y_pred_res_smoteenn, beta=2)"
   ]
  },
  {
   "cell_type": "code",
   "execution_count": 70,
   "metadata": {},
   "outputs": [
    {
     "name": "stdout",
     "output_type": "stream",
     "text": [
      "------ Cost-Sens learning with resampling SMOTEENN ------\n",
      "Accuracy: 0.9276103521658543\n",
      "F2 score: 0.9276103521658543 micro 0.9275054523699052 macro 0.9276117935370962 weighted\n",
      "ROC AUC score: 0.9275301832042604\n",
      "---------------------------------------------------------\n"
     ]
    }
   ],
   "source": [
    "print(\"------ Cost-Sens learning with resampling SMOTEENN ------\")\n",
    "print(\"Accuracy:\", accuracy_score(y_test_res_smoteenn, y_pred_res_smoteenn))\n",
    "print(\"F2 score:\", fbeta_score(y_test_res_smoteenn, y_pred_res_smoteenn, beta=2, average=\"micro\"), \"micro\", fbeta_score(y_test_res_smoteenn, y_pred_res_smoteenn, beta=2, average=\"macro\"), \"macro\", fbeta_score(y_test_res_smoteenn, y_pred_res_smoteenn, beta=2, average=\"weighted\"), \"weighted\")\n",
    "print(\"ROC AUC score:\", roc_auc_score(y_test_res_smoteenn, y_pred_res_smoteenn))\n",
    "print(\"---------------------------------------------------------\")"
   ]
  },
  {
   "attachments": {},
   "cell_type": "markdown",
   "metadata": {},
   "source": [
    "YES Cost-sensitive"
   ]
  },
  {
   "cell_type": "code",
   "execution_count": 71,
   "metadata": {},
   "outputs": [],
   "source": [
    "decision_tree_res_smoteenn = DecisionTreeClassifier(random_state=0, class_weight=\"balanced\").fit(X_train_res_smoteenn, y_train_res_smoteenn)\n",
    "\n",
    "y_pred_res_smoteenn = decision_tree_res_smoteenn.predict(X_test_res_smoteenn)\n",
    "f2score_tree_res_smoteenn_cost_learning = fbeta_score(y_test_res_smoteenn, y_pred_res_smoteenn, beta=2)"
   ]
  },
  {
   "cell_type": "code",
   "execution_count": 72,
   "metadata": {},
   "outputs": [
    {
     "name": "stdout",
     "output_type": "stream",
     "text": [
      "------ Cost-Sens learning with resampling SMOTEENN ------\n",
      "Accuracy: 0.9287773735154802\n",
      "F2 score: 0.9287773735154802 micro 0.9287026993835775 macro 0.9287790523610695 weighted\n",
      "ROC AUC score: 0.9287435338554015\n",
      "---------------------------------------------------------\n"
     ]
    }
   ],
   "source": [
    "print(\"------ Cost-Sens learning with resampling SMOTEENN ------\")\n",
    "print(\"Accuracy:\", accuracy_score(y_test_res_smoteenn, y_pred_res_smoteenn))\n",
    "print(\"F2 score:\", fbeta_score(y_test_res_smoteenn, y_pred_res_smoteenn, beta=2, average=\"micro\"), \"micro\", fbeta_score(y_test_res_smoteenn, y_pred_res_smoteenn, beta=2, average=\"macro\"), \"macro\", fbeta_score(y_test_res_smoteenn, y_pred_res_smoteenn, beta=2, average=\"weighted\"), \"weighted\")\n",
    "print(\"ROC AUC score:\", roc_auc_score(y_test_res_smoteenn, y_pred_res_smoteenn))\n",
    "print(\"---------------------------------------------------------\")"
   ]
  },
  {
   "attachments": {},
   "cell_type": "markdown",
   "metadata": {},
   "source": [
    "### ADASYN resamble"
   ]
  },
  {
   "attachments": {},
   "cell_type": "markdown",
   "metadata": {},
   "source": [
    "NO Cost-sensitive\n"
   ]
  },
  {
   "cell_type": "code",
   "execution_count": 73,
   "metadata": {},
   "outputs": [],
   "source": [
    "decision_tree_res_adasyn = DecisionTreeClassifier(random_state=0).fit(X_train_res_adasyn, y_train_res_adasyn)\n",
    "\n",
    "y_pred_res_adasyn = decision_tree_res_adasyn.predict(X_test_res_adasyn)\n",
    "f2score_tree_res_adasyn = fbeta_score(y_test_res_adasyn, y_pred_res_adasyn, beta=2)"
   ]
  },
  {
   "cell_type": "code",
   "execution_count": 74,
   "metadata": {},
   "outputs": [
    {
     "name": "stdout",
     "output_type": "stream",
     "text": [
      "------ Cost-Sens learning with resampling SMOTEENN ------\n",
      "Accuracy: 0.9381538796861377\n",
      "F2 score: 0.9381538796861378 micro 0.9380956520012188 macro 0.9381515845239962 weighted\n",
      "ROC AUC score: 0.9380808521401336\n",
      "---------------------------------------------------------\n"
     ]
    }
   ],
   "source": [
    "print(\"------ Cost-Sens learning with resampling SMOTEENN ------\")\n",
    "print(\"Accuracy:\", accuracy_score(y_test_res_adasyn, y_pred_res_adasyn))\n",
    "print(\"F2 score:\", fbeta_score(y_test_res_adasyn, y_pred_res_adasyn, beta=2, average=\"micro\"), \"micro\", fbeta_score(y_test_res_adasyn, y_pred_res_adasyn, beta=2, average=\"macro\"), \"macro\", fbeta_score(y_test_res_adasyn, y_pred_res_adasyn, beta=2, average=\"weighted\"), \"weighted\")\n",
    "print(\"ROC AUC score:\", roc_auc_score(y_test_res_adasyn, y_pred_res_adasyn))\n",
    "print(\"---------------------------------------------------------\")"
   ]
  },
  {
   "attachments": {},
   "cell_type": "markdown",
   "metadata": {},
   "source": [
    "YES Cost-sensitive"
   ]
  },
  {
   "cell_type": "code",
   "execution_count": 75,
   "metadata": {},
   "outputs": [],
   "source": [
    "decision_tree_res_adasyn = DecisionTreeClassifier(random_state=0, class_weight=\"balanced\").fit(X_train_res_adasyn, y_train_res_adasyn)\n",
    "\n",
    "y_pred_res_adasyn = decision_tree_res_adasyn.predict(X_test_res_adasyn)\n",
    "f2score_tree_res_adasyn = fbeta_score(y_test_res_adasyn, y_pred_res_adasyn, beta=2)"
   ]
  },
  {
   "cell_type": "code",
   "execution_count": 76,
   "metadata": {},
   "outputs": [
    {
     "name": "stdout",
     "output_type": "stream",
     "text": [
      "------ Cost-Sens learning with resampling SMOTEENN ------\n",
      "Accuracy: 0.9376271432723046\n",
      "F2 score: 0.9376271432723045 micro 0.9375705374070908 macro 0.9376250384061346 weighted\n",
      "ROC AUC score: 0.9375565618219459\n",
      "---------------------------------------------------------\n"
     ]
    }
   ],
   "source": [
    "print(\"------ Cost-Sens learning with resampling SMOTEENN ------\")\n",
    "print(\"Accuracy:\", accuracy_score(y_test_res_adasyn, y_pred_res_adasyn))\n",
    "print(\"F2 score:\", fbeta_score(y_test_res_adasyn, y_pred_res_adasyn, beta=2, average=\"micro\"), \"micro\", fbeta_score(y_test_res_adasyn, y_pred_res_adasyn, beta=2, average=\"macro\"), \"macro\", fbeta_score(y_test_res_adasyn, y_pred_res_adasyn, beta=2, average=\"weighted\"), \"weighted\")\n",
    "print(\"ROC AUC score:\", roc_auc_score(y_test_res_adasyn, y_pred_res_adasyn))\n",
    "print(\"---------------------------------------------------------\")"
   ]
  },
  {
   "attachments": {},
   "cell_type": "markdown",
   "metadata": {},
   "source": [
    "## Naive Bayes"
   ]
  },
  {
   "attachments": {},
   "cell_type": "markdown",
   "metadata": {},
   "source": [
    "### Original dataset"
   ]
  },
  {
   "cell_type": "code",
   "execution_count": 77,
   "metadata": {},
   "outputs": [],
   "source": [
    "bayes = GaussianNB().fit(X_train, y_train)\n",
    "\n",
    "y_pred = bayes.predict(X_test)\n",
    "f2score_bayes = fbeta_score(y_test, y_pred, beta=2)"
   ]
  },
  {
   "cell_type": "code",
   "execution_count": 78,
   "metadata": {},
   "outputs": [
    {
     "name": "stdout",
     "output_type": "stream",
     "text": [
      "------ Cost-Sens learning with resampling SMOTEENN ------\n",
      "Accuracy: 0.897417934347478\n",
      "F2 score: 0.0424637203166227\n",
      "ROC AUC score: 0.5132270427285687\n",
      "---------------------------------------------------------\n"
     ]
    }
   ],
   "source": [
    "print(\"------ Cost-Sens learning with resampling SMOTEENN ------\")\n",
    "print(\"Accuracy:\", accuracy_score(y_test, y_pred))\n",
    "print(\"F2 score:\", fbeta_score(y_test, y_pred, beta=2))\n",
    "print(\"ROC AUC score:\", roc_auc_score(y_test, y_pred))\n",
    "print(\"---------------------------------------------------------\")"
   ]
  },
  {
   "attachments": {},
   "cell_type": "markdown",
   "metadata": {},
   "source": [
    "### SMOTEENN resampling"
   ]
  },
  {
   "cell_type": "code",
   "execution_count": 79,
   "metadata": {},
   "outputs": [],
   "source": [
    "bayes_smoteen = GaussianNB().fit(X_train_res_smoteenn, y_train_res_smoteenn)\n",
    "\n",
    "y_pred_res_smoteenn = bayes_smoteen.predict(X_test_res_smoteenn)\n",
    "f2score_bayes_res_smoteenn = fbeta_score(y_test_res_smoteenn, y_pred_res_smoteenn, beta=2)"
   ]
  },
  {
   "cell_type": "code",
   "execution_count": 80,
   "metadata": {},
   "outputs": [
    {
     "name": "stdout",
     "output_type": "stream",
     "text": [
      "------ Cost-Sens learning with resampling SMOTEENN ------\n",
      "Accuracy: 0.69472094460081\n",
      "F2 score: 0.69472094460081 micro 0.6904620999410102 macro 0.6931980450397981 weighted\n",
      "ROC AUC score: 0.6911879622090443\n",
      "---------------------------------------------------------\n"
     ]
    }
   ],
   "source": [
    "print(\"------ Cost-Sens learning with resampling SMOTEENN ------\")\n",
    "print(\"Accuracy:\", accuracy_score(y_test_res_smoteenn, y_pred_res_smoteenn))\n",
    "print(\"F2 score:\", fbeta_score(y_test_res_smoteenn, y_pred_res_smoteenn, beta=2, average=\"micro\"), \"micro\", fbeta_score(y_test_res_smoteenn, y_pred_res_smoteenn, beta=2, average=\"macro\"), \"macro\", fbeta_score(y_test_res_smoteenn, y_pred_res_smoteenn, beta=2, average=\"weighted\"), \"weighted\")\n",
    "print(\"ROC AUC score:\", roc_auc_score(y_test_res_smoteenn, y_pred_res_smoteenn))\n",
    "print(\"---------------------------------------------------------\")"
   ]
  },
  {
   "attachments": {},
   "cell_type": "markdown",
   "metadata": {},
   "source": [
    "### ADASYN resampling"
   ]
  },
  {
   "cell_type": "code",
   "execution_count": 81,
   "metadata": {},
   "outputs": [],
   "source": [
    "bayes_adasyn = ComplementNB().fit(X_train_res_adasyn, y_train_res_adasyn)\n",
    "\n",
    "y_pred_res_adasyn = bayes_adasyn.predict(X_test_res_adasyn)\n",
    "f2score_bayes_res_adasyn = fbeta_score(y_test_res_adasyn, y_pred_res_adasyn, beta=2)"
   ]
  },
  {
   "cell_type": "code",
   "execution_count": 82,
   "metadata": {},
   "outputs": [
    {
     "name": "stdout",
     "output_type": "stream",
     "text": [
      "------ Cost-Sens learning with resampling SMOTEENN ------\n",
      "Accuracy: 0.5530187445510026\n",
      "F2 score: 0.5530187445510026 micro 0.5529338951151352 macro 0.5530301263877263 weighted\n",
      "ROC AUC score: 0.5529515530535236\n",
      "---------------------------------------------------------\n"
     ]
    }
   ],
   "source": [
    "print(\"------ Cost-Sens learning with resampling SMOTEENN ------\")\n",
    "print(\"Accuracy:\", accuracy_score(y_test_res_adasyn, y_pred_res_adasyn))\n",
    "print(\"F2 score:\", fbeta_score(y_test_res_adasyn, y_pred_res_adasyn, beta=2, average=\"micro\"), \"micro\", fbeta_score(y_test_res_adasyn, y_pred_res_adasyn, beta=2, average=\"macro\"), \"macro\", fbeta_score(y_test_res_adasyn, y_pred_res_adasyn, beta=2, average=\"weighted\"), \"weighted\")\n",
    "print(\"ROC AUC score:\", roc_auc_score(y_test_res_adasyn, y_pred_res_adasyn))\n",
    "print(\"---------------------------------------------------------\")"
   ]
  },
  {
   "cell_type": "code",
   "execution_count": 100,
   "metadata": {},
   "outputs": [
    {
     "data": {
      "image/png": "[encoded data removed]",
      "text/plain": [
       "<Figure size 1900x500 with 1 Axes>"
      ]
     },
     "metadata": {},
     "output_type": "display_data"
    }
   ],
   "source": [
    "# setting the dimensions of the plot\n",
    "fig, ax = plt.subplots(figsize=(19, 5))\n",
    "plt.title(\"Decision Tree C4.5 F2score\")\n",
    "sns.barplot(x=[\"Original dataset NO cost-sens\", \"Original dataset YES cost-sens\", \"SMOTEEN dataset NO cost-sens\", \"SMOTEEN dataset YES cost-sens\", \"ADASYN dataset NO cost-sens\", \"ADASYN dataset YES cost-sens\"], y=[f2score_tree, f2score_tree_cost_learning, f2score_tree_res_smoteenn, f2score_tree_res_smoteenn_cost_learning, f2score_tree_res_adasyn,f2score_tree_res_smoteenn_cost_learning])\n",
    "plt.show()"
   ]
  },
  {
   "cell_type": "code",
   "execution_count": 101,
   "metadata": {},
   "outputs": [
    {
     "data": {
      "text/plain": [
       "<AxesSubplot:title={'center':'Naive Bayes F2score'}>"
      ]
     },
     "execution_count": 101,
     "metadata": {},
     "output_type": "execute_result"
    },
    {
     "data": {
      "image/png": "[encoded data removed]",
      "text/plain": [
       "<Figure size 640x480 with 1 Axes>"
      ]
     },
     "metadata": {},
     "output_type": "display_data"
    }
   ],
   "source": [
    "plt.title(\"Naive Bayes F2score\")\n",
    "sns.barplot(x=[\"Original dataset\", \"SMOTEEN dataset\",\"ADASYN dataset\"], y=[f2score_bayes, f2score_bayes_res_smoteenn, f2score_bayes_res_adasyn])"
   ]
  }
 ],
 "metadata": {
  "kernelspec": {
   "display_name": "Python 3",
   "language": "python",
   "name": "python3"
  },
  "language_info": {
   "codemirror_mode": {
    "name": "ipython",
    "version": 3
   },
   "file_extension": ".py",
   "mimetype": "text/x-python",
   "name": "python",
   "nbconvert_exporter": "python",
   "pygments_lexer": "ipython3",
   "version": "3.10.6"
  },
  "orig_nbformat": 4
 },
 "nbformat": 4,
 "nbformat_minor": 2
}
